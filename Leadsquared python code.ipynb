{
 "cells": [
  {
   "cell_type": "code",
   "execution_count": 2,
   "metadata": {},
   "outputs": [
    {
     "name": "stdout",
     "output_type": "stream",
     "text": [
      "Enter total price:  130\n",
      "Enter type of customer:  Existing\n",
      "Does customer have a loyalty card:  Yes\n",
      "Does customer have a Coupon:  Yes\n",
      "39.0\n"
     ]
    }
   ],
   "source": [
    "Price=int(input(\"Enter total price:  \"))\n",
    "Customer_type=input(\"Enter type of customer:  \")\n",
    "if Customer_type==\"New\":\n",
    "    Loyalty_card=input(\"Does customer willing to have a loyalty card:  \")\n",
    "if Customer_type==\"Existing\":\n",
    "    Loyalty_card=input(\"Does customer have a loyalty card:  \")\n",
    "Coupon=input(\"Does customer have a Coupon:  \")\n",
    "Discount=0\n",
    "if Customer_type==\"New\" and Loyalty_card==\"Yes\":\n",
    "    Discount=(15*Price)/100\n",
    "if Customer_type==\"Existing\" and Loyalty_card==\"Yes\":\n",
    "    Discount=(10*Price)/100\n",
    "    if Coupon==\"Yes\":\n",
    "        Discount+=(20*Price)/100\n",
    "print(Discount)"
   ]
  },
  {
   "cell_type": "code",
   "execution_count": null,
   "metadata": {},
   "outputs": [],
   "source": []
  }
 ],
 "metadata": {
  "kernelspec": {
   "display_name": "Python 3",
   "language": "python",
   "name": "python3"
  },
  "language_info": {
   "codemirror_mode": {
    "name": "ipython",
    "version": 3
   },
   "file_extension": ".py",
   "mimetype": "text/x-python",
   "name": "python",
   "nbconvert_exporter": "python",
   "pygments_lexer": "ipython3",
   "version": "3.7.1"
  }
 },
 "nbformat": 4,
 "nbformat_minor": 2
}
